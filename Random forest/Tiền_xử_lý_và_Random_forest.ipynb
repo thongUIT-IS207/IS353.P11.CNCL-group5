{
  "cells": [
    {
      "cell_type": "code",
      "execution_count": null,
      "metadata": {
        "colab": {
          "base_uri": "https://localhost:8080/"
        },
        "id": "ZYJEUSvfuyfc",
        "outputId": "b182037e-f80b-4591-b1ab-074bf87922c3"
      },
      "outputs": [
        {
          "output_type": "stream",
          "name": "stdout",
          "text": [
            "Drive already mounted at /content/drive; to attempt to forcibly remount, call drive.mount(\"/content/drive\", force_remount=True).\n"
          ]
        }
      ],
      "source": [
        "from google.colab import drive\n",
        "drive.mount('/content/drive')"
      ]
    },
    {
      "cell_type": "code",
      "execution_count": null,
      "metadata": {
        "colab": {
          "base_uri": "https://localhost:8080/"
        },
        "id": "tSOs6akUw-FW",
        "outputId": "8293cca1-9a14-46c1-be22-4a2edf5a9470"
      },
      "outputs": [
        {
          "name": "stdout",
          "output_type": "stream",
          "text": [
            "Danh sách các cột:\n",
            "Index(['id', 'mssv', ' namsinh', ' gioitinh', ' noisinh', ' lopsh', ' khoa',\n",
            "       ' hedt', ' khoahoc', ' chuyennganh2', ' tinhtrang', ' diachi_tinhtp',\n",
            "       'Column1', '_1', '_2', '_3', '_4', '_5', '_6', '_7', '_8', '_9', '_10',\n",
            "       '_11', '_12', '_13', '_14', '_15', '_16', '_17', '_18', '_19', '_20',\n",
            "       '_21', '_22', '_23', '_24', '_25', '_26', '_27', '_28', '_29', '_30',\n",
            "       '_31', '_32', '_33', '_34', '_35', '_36', '_37', '_38', '_39', '_40',\n",
            "       '_41', '_42', '_43', '_44', '_45', '_46', '_47', '_48', '_49', '_50',\n",
            "       '_51', '_52', '_53', '_54', '_55', '_56'],\n",
            "      dtype='object')\n"
          ]
        }
      ],
      "source": [
        "import pandas as pd\n",
        "file_path = \"/content/drive/MyDrive/Colab Notebooks/Education_dataset_V2/01.sinhvien.xlsx\"\n",
        "df = pd.read_excel(file_path)\n",
        "print(\"Danh sách các cột:\")\n",
        "print(df.columns)"
      ]
    },
    {
      "cell_type": "code",
      "execution_count": null,
      "metadata": {
        "colab": {
          "base_uri": "https://localhost:8080/"
        },
        "id": "Cxdg_EUzx2YW",
        "outputId": "8b5a8be3-aa95-4a75-f89d-5e8db474a354"
      },
      "outputs": [
        {
          "name": "stdout",
          "output_type": "stream",
          "text": [
            "Danh sách các cột:\n",
            "Index(['id', 'mssv', ' namsinh', ' gioitinh', ' khoa', ' hedt', ' khoahoc'], dtype='object')\n"
          ]
        }
      ],
      "source": [
        "df = df.drop(df.columns[[4, 5, 9, 10, 11, 12, 13, 14, 15, 16, 17, 18, 19, 20, 21, 22, 23, 24, 25, 26, 27, 28, 29, 30,\n",
        "31, 32, 33, 34, 35, 36, 37, 38, 39, 40, 41, 42, 43, 44, 45, 46,\n",
        "47, 48, 49, 50, 51, 52, 53, 54, 55, 56, 57, 58, 59, 60, 61, 62,\n",
        "63, 64, 65, 66, 67, 68]], axis=1)\n",
        "print(\"Danh sách các cột:\")\n",
        "print(df.columns)"
      ]
    },
    {
      "cell_type": "code",
      "execution_count": null,
      "metadata": {
        "id": "Ojn7VfE2x-ow"
      },
      "outputs": [],
      "source": [
        "df.to_csv(\"/content/drive/MyDrive/Colab Notebooks/Education_dataset_V2/Drop cột/sinhvien.csv\", index=False)"
      ]
    },
    {
      "cell_type": "code",
      "execution_count": null,
      "metadata": {
        "colab": {
          "base_uri": "https://localhost:8080/"
        },
        "id": "OpS5RW4_yYsG",
        "outputId": "4a0b3f3a-5ad1-46e3-84b0-935e00f01ad3"
      },
      "outputs": [
        {
          "name": "stdout",
          "output_type": "stream",
          "text": [
            "Danh sách các cột:\n",
            "Index(['id', 'mssv', ' mamh', ' malop', ' sotc', ' namhoc', ' hocky', ' diem',\n",
            "       ' trangthai', ' mamh_tt'],\n",
            "      dtype='object')\n"
          ]
        }
      ],
      "source": [
        "df1 = pd.read_excel(\"/content/drive/MyDrive/Colab Notebooks/Education_dataset_V2/02.diem.xlsx\")\n",
        "print(\"Danh sách các cột:\")\n",
        "print(df1.columns)"
      ]
    },
    {
      "cell_type": "code",
      "execution_count": null,
      "metadata": {
        "id": "Cxh8ZyEVyvSy"
      },
      "outputs": [],
      "source": [
        "df1 = df1.drop(df1.columns[[3, 4, 8, 9]], axis=1)\n",
        "print(\"Danh sách các cột:\")\n",
        "print(df1.columns)"
      ]
    },
    {
      "cell_type": "code",
      "execution_count": null,
      "metadata": {
        "id": "0fmbORBo1rpx"
      },
      "outputs": [],
      "source": [
        "df1.to_csv(\"/content/drive/MyDrive/Colab Notebooks/Education_dataset_V2/Drop cột/diem.csv\", index=False)"
      ]
    },
    {
      "cell_type": "code",
      "execution_count": null,
      "metadata": {
        "colab": {
          "base_uri": "https://localhost:8080/"
        },
        "id": "39gPTHeD2fO8",
        "outputId": "3ffc16ff-5e22-4e68-9536-ed871f5abf10"
      },
      "outputs": [
        {
          "name": "stdout",
          "output_type": "stream",
          "text": [
            "Danh sách các cột:\n",
            "Index(['mssv', 'mamh', 'malop', 'sotc', 'hocky', 'namhoc', 'diem_qt',\n",
            "       'diem_th', 'diem_gk', 'diem_ck', 'diem_hp', 'trangthai', 'tinhtrang',\n",
            "       'mamh_tt'],\n",
            "      dtype='object')\n"
          ]
        }
      ],
      "source": [
        "df2 = pd.read_excel(\"/content/drive/MyDrive/Colab Notebooks/Education_dataset_V2/diem_Thu.xlsx\")\n",
        "print(\"Danh sách các cột:\")\n",
        "print(df2.columns)"
      ]
    },
    {
      "cell_type": "code",
      "execution_count": null,
      "metadata": {
        "colab": {
          "base_uri": "https://localhost:8080/"
        },
        "id": "S0_bNwZj2z3n",
        "outputId": "03c9dfcc-c09e-412f-af28-8a8b4095e3e3"
      },
      "outputs": [
        {
          "name": "stdout",
          "output_type": "stream",
          "text": [
            "Danh sách các cột:\n",
            "Index(['mssv', 'mamh', 'hocky', 'namhoc', 'diem_qt', 'diem_th', 'diem_gk',\n",
            "       'diem_ck', 'diem_hp'],\n",
            "      dtype='object')\n"
          ]
        }
      ],
      "source": [
        "df2 = df2.drop(df2.columns[[2, 3, 11, 12, 13]], axis=1)\n",
        "print(\"Danh sách các cột:\")\n",
        "print(df2.columns)"
      ]
    },
    {
      "cell_type": "code",
      "execution_count": null,
      "metadata": {
        "id": "nbaZP_au3hij"
      },
      "outputs": [],
      "source": [
        "df2.to_csv(\"/content/drive/MyDrive/Colab Notebooks/Education_dataset_V2/Drop cột/Diem_THU.csv\", index=False)"
      ]
    },
    {
      "cell_type": "code",
      "execution_count": null,
      "metadata": {
        "colab": {
          "base_uri": "https://localhost:8080/"
        },
        "id": "gwaNZhiu3qvu",
        "outputId": "7989e86c-ee9a-4bab-99fb-cd54d33598c9"
      },
      "outputs": [
        {
          "name": "stdout",
          "output_type": "stream",
          "text": [
            "Danh sách các cột:\n",
            "Index(['mssv', 'hocky', 'namhoc', 'dtbhk', 'sotchk'], dtype='object')\n"
          ]
        }
      ],
      "source": [
        "df3 = pd.read_excel(\"/content/drive/MyDrive/Colab Notebooks/Education_dataset_V2/sinhvien_dtb_hocky.xlsx\")\n",
        "print(\"Danh sách các cột:\")\n",
        "print(df3.columns)"
      ]
    },
    {
      "cell_type": "code",
      "execution_count": null,
      "metadata": {
        "id": "zTo7BuvW36Vc"
      },
      "outputs": [],
      "source": [
        "df3.to_csv(\"/content/drive/MyDrive/Colab Notebooks/Education_dataset_V2/Drop cột/sinhvien_dtb_hocky\", index=False)"
      ]
    },
    {
      "cell_type": "code",
      "execution_count": null,
      "metadata": {
        "colab": {
          "base_uri": "https://localhost:8080/"
        },
        "id": "ITt-R4d545NG",
        "outputId": "06d0f3ea-b7b1-4694-8314-ec9f5e20f0e7"
      },
      "outputs": [
        {
          "name": "stdout",
          "output_type": "stream",
          "text": [
            "Danh sách các cột:\n",
            "Index(['mssv', 'dtb_toankhoa', 'dtb_tichluy', 'sotc_tichluy'], dtype='object')\n"
          ]
        }
      ],
      "source": [
        "df4 = pd.read_excel(\"/content/drive/MyDrive/Colab Notebooks/Education_dataset_V2/sinhvien_dtb_toankhoa.xlsx\")\n",
        "print(\"Danh sách các cột:\")\n",
        "print(df4.columns)"
      ]
    },
    {
      "cell_type": "code",
      "execution_count": null,
      "metadata": {
        "colab": {
          "base_uri": "https://localhost:8080/"
        },
        "id": "2PbK3ujt5AwN",
        "outputId": "d6ad570f-22b1-4a9d-840b-3789fbd804f4"
      },
      "outputs": [
        {
          "name": "stdout",
          "output_type": "stream",
          "text": [
            "Danh sách các cột:\n",
            "Index(['mssv', 'dtb_toankhoa', 'dtb_tichluy'], dtype='object')\n"
          ]
        }
      ],
      "source": [
        "df4 = df4.drop(df4.columns[[3]], axis=1)\n",
        "print(\"Danh sách các cột:\")\n",
        "print(df4.columns)"
      ]
    },
    {
      "cell_type": "code",
      "execution_count": null,
      "metadata": {
        "id": "Wwof9NWR5NgN"
      },
      "outputs": [],
      "source": [
        "df4.to_csv(\"/content/drive/MyDrive/Colab Notebooks/Education_dataset_V2/Drop cột/sinhvien_dtb_toankhoa.csv\", index=False)"
      ]
    },
    {
      "cell_type": "code",
      "execution_count": null,
      "metadata": {
        "colab": {
          "base_uri": "https://localhost:8080/"
        },
        "id": "MSFrmsaM831r",
        "outputId": "ffec0fe2-f534-4dd8-d39f-b8d222345b7f"
      },
      "outputs": [
        {
          "name": "stdout",
          "output_type": "stream",
          "text": [
            "Index(['id', 'mssv', ' namsinh', ' gioitinh', ' khoa', ' hedt', ' khoahoc'], dtype='object')\n"
          ]
        }
      ],
      "source": [
        "print(df.columns)"
      ]
    },
    {
      "cell_type": "code",
      "execution_count": null,
      "metadata": {
        "colab": {
          "base_uri": "https://localhost:8080/"
        },
        "id": "mXD0Kanl83ct",
        "outputId": "2551cc2f-6c28-42d1-c838-c23963d2d64f"
      },
      "outputs": [
        {
          "name": "stdout",
          "output_type": "stream",
          "text": [
            "Index(['id', 'mssv', ' mamh', ' namhoc', ' hocky', ' diem'], dtype='object')\n"
          ]
        }
      ],
      "source": [
        "print(df1.columns)"
      ]
    },
    {
      "cell_type": "code",
      "execution_count": null,
      "metadata": {
        "colab": {
          "base_uri": "https://localhost:8080/"
        },
        "id": "UIz1bkKP83UV",
        "outputId": "1bbca3f3-0742-4daf-8e4f-a06a8e161b54"
      },
      "outputs": [
        {
          "name": "stdout",
          "output_type": "stream",
          "text": [
            "Index(['mssv', 'mamh', 'hocky', 'namhoc', 'diem_qt', 'diem_th', 'diem_gk',\n",
            "       'diem_ck', 'diem_hp'],\n",
            "      dtype='object')\n"
          ]
        }
      ],
      "source": [
        "print(df2.columns)"
      ]
    },
    {
      "cell_type": "code",
      "execution_count": null,
      "metadata": {
        "colab": {
          "base_uri": "https://localhost:8080/"
        },
        "id": "9BVr9NE981DQ",
        "outputId": "e5252343-c5ff-43ea-e340-71668ce2a37a"
      },
      "outputs": [
        {
          "name": "stdout",
          "output_type": "stream",
          "text": [
            "Index(['mssv', 'hocky', 'namhoc', 'dtbhk', 'sotchk'], dtype='object')\n"
          ]
        }
      ],
      "source": [
        "print(df3.columns)"
      ]
    },
    {
      "cell_type": "code",
      "execution_count": null,
      "metadata": {
        "colab": {
          "base_uri": "https://localhost:8080/"
        },
        "id": "eUUeKHrC8ytE",
        "outputId": "491162a5-bd7c-42f9-b2c4-ff380d6f9d5f"
      },
      "outputs": [
        {
          "name": "stdout",
          "output_type": "stream",
          "text": [
            "Index(['mssv', 'dtb_toankhoa', 'dtb_tichluy'], dtype='object')\n"
          ]
        }
      ],
      "source": [
        "print(df4.columns)"
      ]
    },
    {
      "cell_type": "code",
      "execution_count": null,
      "metadata": {
        "id": "1GfIA37y-Z7R"
      },
      "outputs": [],
      "source": [
        "df.columns = df.columns.str.strip().str.lower()  # Chuẩn hóa tên cột\n",
        "df1.columns = df1.columns.str.strip().str.lower()  # Chuẩn hóa tên cột\n",
        "df2.columns = df2.columns.str.strip().str.lower()  # Chuẩn hóa tên cột\n",
        "df3.columns = df3.columns.str.strip().str.lower()  # Chuẩn hóa tên cột\n",
        "df4.columns = df4.columns.str.strip().str.lower()  # Chuẩn hóa tên cột\n"
      ]
    },
    {
      "cell_type": "code",
      "execution_count": null,
      "metadata": {
        "colab": {
          "base_uri": "https://localhost:8080/"
        },
        "id": "JmHuM6CRBAzT",
        "outputId": "9ab658d0-404c-4831-c1b2-fc79beca28ec"
      },
      "outputs": [
        {
          "name": "stdout",
          "output_type": "stream",
          "text": [
            "id          21\n",
            "mssv        21\n",
            "namsinh     22\n",
            "gioitinh    21\n",
            "khoa        21\n",
            "hedt        21\n",
            "khoahoc     21\n",
            "dtype: int64\n"
          ]
        }
      ],
      "source": [
        "print(df.isnull().sum())  # Kiểm tra số giá trị thiếu còn lại\n"
      ]
    },
    {
      "cell_type": "code",
      "execution_count": null,
      "metadata": {
        "id": "KDSi6gr9AKAa"
      },
      "outputs": [],
      "source": [
        "df = df.fillna(pd.NA)\n",
        "df1 = df1.fillna(pd.NA)\n",
        "df2 = df2.fillna(pd.NA)\n",
        "df3 = df3.fillna(pd.NA)\n",
        "df4 = df4.fillna(pd.NA)"
      ]
    },
    {
      "cell_type": "code",
      "execution_count": null,
      "metadata": {
        "colab": {
          "base_uri": "https://localhost:8080/"
        },
        "id": "0ruT7Qv8CmEc",
        "outputId": "b2d8f32a-3110-4c93-bd18-85eae0273e75"
      },
      "outputs": [
        {
          "name": "stdout",
          "output_type": "stream",
          "text": [
            "id          21\n",
            "mssv        21\n",
            "namsinh     22\n",
            "gioitinh    21\n",
            "khoa        21\n",
            "hedt        21\n",
            "khoahoc     21\n",
            "dtype: int64\n"
          ]
        }
      ],
      "source": [
        "print(df.isnull().sum())  # Kiểm tra số giá trị thiếu còn lại\n"
      ]
    },
    {
      "cell_type": "code",
      "execution_count": null,
      "metadata": {
        "id": "UE7XllQqDhAu"
      },
      "outputs": [],
      "source": [
        "df2.to_csv(\"/content/drive/MyDrive/Colab Notebooks/Education_dataset_V2/Drop cột/Diem_THU.csv\", index=False)"
      ]
    },
    {
      "cell_type": "code",
      "execution_count": null,
      "metadata": {
        "id": "amIgQrkk_Lhy"
      },
      "outputs": [],
      "source": [
        "import pandas as pd\n",
        "import os\n",
        "\n",
        "folder_path = \"/content/drive/MyDrive/Colab Notebooks/Education_dataset_V2/Drop cột\"  # Thư mục chứa các file CSV\n",
        "csv_files = [file for file in os.listdir(folder_path) if file.endswith('.csv')]\n",
        "\n",
        "# Gộp dữ liệu\n",
        "dataframes = []\n",
        "for file in csv_files:\n",
        "    df = pd.read_csv(os.path.join(folder_path, file))\n",
        "    dataframes.append(df)\n",
        "\n",
        "merged_df = pd.concat(dataframes, ignore_index=True)\n"
      ]
    },
    {
      "cell_type": "code",
      "execution_count": null,
      "metadata": {
        "id": "wvLu1U0ED1rg"
      },
      "outputs": [],
      "source": [
        "merged_df.to_csv(\"/content/drive/MyDrive/Colab Notebooks/Education_dataset_V2/Drop cột/merged_df.csv\", index=False)\n"
      ]
    },
    {
      "cell_type": "code",
      "execution_count": null,
      "metadata": {
        "colab": {
          "base_uri": "https://localhost:8080/"
        },
        "id": "4J7C8OX4FV5i",
        "outputId": "8a77908c-b9d6-4a54-bf00-696d931fe0ee"
      },
      "outputs": [
        {
          "name": "stderr",
          "output_type": "stream",
          "text": [
            "<ipython-input-93-ef78205a4b24>:2: DtypeWarning: Columns (4,5,7) have mixed types. Specify dtype option on import or set low_memory=False.\n",
            "  df0 = pd.read_csv(file_path)\n"
          ]
        }
      ],
      "source": [
        "file_path = \"/content/drive/MyDrive/Colab Notebooks/Education_dataset_V2/Drop cột/merged_df.csv\"\n",
        "df0 = pd.read_csv(file_path)\n",
        "\n"
      ]
    },
    {
      "cell_type": "code",
      "execution_count": null,
      "metadata": {
        "colab": {
          "base_uri": "https://localhost:8080/"
        },
        "id": "Hyn2badLIWAQ",
        "outputId": "5feba6fa-26fb-4f18-dd65-109701ee4a8c"
      },
      "outputs": [
        {
          "name": "stdout",
          "output_type": "stream",
          "text": [
            "Dữ liệu sau khi gộp:\n",
            "                                           mssv        id  namsinh  gioitinh  \\\n",
            "0      0000AC05XPvAibaEXe9B2tolTZ0JLoBGbkQixQS6       NaN      NaN       NaN   \n",
            "1      0001EB57XPvAibaEXe/twT+sf632fUXnsgPGeB4G   18570.0   2001.0       0.0   \n",
            "2      00046394XPvAibaEXe+fmxcqgvribEcT4YmJhSFD  239729.0   1995.0       1.0   \n",
            "3      0006A0BBXPvAibaEXe/lMOwHQdw54DgUkWaqwb1u       NaN      NaN       NaN   \n",
            "4      000AD0D8XPvAibaEXe+RQyZpP6sq6qqIPZXybx3Q   16492.0   2000.0       1.0   \n",
            "...                                         ...       ...      ...       ...   \n",
            "18257  FFF3D630XPvAibaEXe8byJxgVsE7R2dP7ICEdFWK       NaN      NaN       NaN   \n",
            "18258  FFF4CD57XPvAibaEXe/z8kRiyNmKNla425pm0Qmc       NaN      NaN       NaN   \n",
            "18259  FFFA4234XPvAibaEXe+OhmjSj4XEzdTGgcTdT9fT   12683.0   1998.0       0.0   \n",
            "18260  FFFAFB51XPvAibaEXe+F+2tZHEiFCbIwAZfR+51z       NaN      NaN       NaN   \n",
            "18261  FFFCEDACXPvAibaEXe/r1+Wy29gBaT8F536ZLuBZ       NaN      NaN       NaN   \n",
            "\n",
            "       khoahoc  namhoc  hocky  diem  diem_qt  diem_th  diem_gk  diem_ck  \\\n",
            "0          NaN  2022.0    2.0   NaN     10.0     10.0      9.5      9.5   \n",
            "1         14.0  2022.0    2.0   NaN     10.0     10.0     10.0     10.0   \n",
            "2          8.0  2017.0    3.0  10.0     10.0     10.0     10.0     10.0   \n",
            "3          NaN  2022.0    1.0   NaN     10.0      6.5      8.5     10.0   \n",
            "4         13.0  2021.0    2.0   NaN     10.0     10.0     10.0     10.0   \n",
            "...        ...     ...    ...   ...      ...      ...      ...      ...   \n",
            "18257      NaN  2013.0    2.0   NaN      NaN      8.0      9.0      9.0   \n",
            "18258      NaN  2022.0    2.0   NaN     10.0     10.0     10.0      9.5   \n",
            "18259     11.0  2019.0    3.0   9.3     10.0      9.5     10.0     10.0   \n",
            "18260      NaN     NaN    NaN   NaN      NaN      NaN      NaN      NaN   \n",
            "18261      NaN  2009.0    2.0   NaN      NaN      NaN      NaN      NaN   \n",
            "\n",
            "       diem_hp  dtb_toankhoa  dtb_tichluy  \n",
            "0          8.8          7.91         7.91  \n",
            "1         10.0          8.79         8.79  \n",
            "2         10.0          7.26         7.26  \n",
            "3          9.5          7.27         7.27  \n",
            "4         10.0          8.08         8.08  \n",
            "...        ...           ...          ...  \n",
            "18257     10.0           NaN          NaN  \n",
            "18258      9.3          7.61         7.61  \n",
            "18259      9.8          7.76         7.76  \n",
            "18260      NaN           NaN          NaN  \n",
            "18261     10.0           NaN          NaN  \n",
            "\n",
            "[18262 rows x 15 columns]\n"
          ]
        }
      ],
      "source": [
        "df0_grouped = df0.groupby('mssv').max(numeric_only=True).reset_index()\n",
        "\n",
        "print(\"Dữ liệu sau khi gộp:\")\n",
        "print(df0_grouped)\n"
      ]
    },
    {
      "cell_type": "code",
      "execution_count": null,
      "metadata": {
        "colab": {
          "base_uri": "https://localhost:8080/"
        },
        "id": "K2SZfZrgIqSG",
        "outputId": "bcdc7fb9-a48a-4ebb-f978-cd79081b2550"
      },
      "outputs": [
        {
          "name": "stdout",
          "output_type": "stream",
          "text": [
            "Dữ liệu đã được lưu vào file gop_du_lieu.csv\n"
          ]
        }
      ],
      "source": [
        "df0_grouped.to_csv(\"/content/drive/MyDrive/Colab Notebooks/Education_dataset_V2/Drop cột/gop_du_lieu.csv\", index=False)\n",
        "print(\"Dữ liệu đã được lưu vào file gop_du_lieu.csv\")\n"
      ]
    },
    {
      "cell_type": "code",
      "execution_count": null,
      "metadata": {
        "colab": {
          "base_uri": "https://localhost:8080/"
        },
        "id": "xVLHhkkxKvzp",
        "outputId": "d72660ef-75fa-41b3-a33d-5cf36ccaba40"
      },
      "outputs": [
        {
          "name": "stdout",
          "output_type": "stream",
          "text": [
            "Dữ liệu ban đầu:\n",
            "<class 'pandas.core.frame.DataFrame'>\n",
            "RangeIndex: 18262 entries, 0 to 18261\n",
            "Data columns (total 15 columns):\n",
            " #   Column        Non-Null Count  Dtype  \n",
            "---  ------        --------------  -----  \n",
            " 0   mssv          18262 non-null  object \n",
            " 1   id            8295 non-null   float64\n",
            " 2   namsinh       8294 non-null   float64\n",
            " 3   gioitinh      8295 non-null   float64\n",
            " 4   khoahoc       8295 non-null   float64\n",
            " 5   namhoc        17881 non-null  float64\n",
            " 6   hocky         17881 non-null  float64\n",
            " 7   diem          4050 non-null   float64\n",
            " 8   diem_qt       15463 non-null  float64\n",
            " 9   diem_th       16545 non-null  float64\n",
            " 10  diem_gk       16562 non-null  float64\n",
            " 11  diem_ck       16821 non-null  float64\n",
            " 12  diem_hp       17881 non-null  float64\n",
            " 13  dtb_toankhoa  13648 non-null  float64\n",
            " 14  dtb_tichluy   13648 non-null  float64\n",
            "dtypes: float64(14), object(1)\n",
            "memory usage: 2.1+ MB\n",
            "None\n"
          ]
        }
      ],
      "source": [
        "import pandas as pd\n",
        "\n",
        "# Đọc file CSV\n",
        "file_path = \"/content/drive/MyDrive/Colab Notebooks/Education_dataset_V2/Drop cột/gop_du_lieu.csv\"  # Thay bằng đường dẫn file của bạn\n",
        "df = pd.read_csv(file_path)\n",
        "\n",
        "# Kiểm tra dữ liệu\n",
        "print(\"Dữ liệu ban đầu:\")\n",
        "print(df.info())\n"
      ]
    },
    {
      "cell_type": "code",
      "execution_count": null,
      "metadata": {
        "colab": {
          "base_uri": "https://localhost:8080/"
        },
        "id": "tI8sCrXBUwdS",
        "outputId": "8136a0b2-0880-4f17-a75b-f148816142af"
      },
      "outputs": [
        {
          "name": "stdout",
          "output_type": "stream",
          "text": [
            "mssv            0\n",
            "id              0\n",
            "namsinh         0\n",
            "gioitinh        0\n",
            "khoahoc         0\n",
            "namhoc          0\n",
            "hocky           0\n",
            "diem            0\n",
            "diem_qt         0\n",
            "diem_th         0\n",
            "diem_gk         0\n",
            "diem_ck         0\n",
            "diem_hp         0\n",
            "dtb_toankhoa    0\n",
            "dtb_tichluy     0\n",
            "dtype: int64\n"
          ]
        }
      ],
      "source": [
        "# Điền giá trị 0 cho toàn bộ DataFrame\n",
        "df.fillna(0, inplace=True)\n",
        "\n",
        "# Kiểm tra lại xem còn giá trị thiếu không\n",
        "print(df.isnull().sum())\n"
      ]
    },
    {
      "cell_type": "code",
      "execution_count": null,
      "metadata": {
        "colab": {
          "base_uri": "https://localhost:8080/"
        },
        "id": "Qzp_QHPPVhYu",
        "outputId": "0b84a85c-b407-43bd-cf9a-49aabac86f08"
      },
      "outputs": [
        {
          "name": "stdout",
          "output_type": "stream",
          "text": [
            "Dữ liệu đã được lưu vào: /content/drive/MyDrive/Colab Notebooks/Education_dataset_V2/Drop cột/Demo_file.csv\n"
          ]
        }
      ],
      "source": [
        "# Lưu dữ liệu vào file CSV mới\n",
        "output_path = \"/content/drive/MyDrive/Colab Notebooks/Education_dataset_V2/Drop cột/Demo_file.csv\"\n",
        "df.to_csv(output_path, index=False)\n",
        "\n",
        "print(f\"Dữ liệu đã được lưu vào: {output_path}\")\n"
      ]
    },
    {
      "cell_type": "code",
      "execution_count": null,
      "metadata": {
        "colab": {
          "base_uri": "https://localhost:8080/"
        },
        "id": "Ks4c4KNJWERc",
        "outputId": "87d7ac07-7aef-4a67-ba82-ff15a6dda4be"
      },
      "outputs": [
        {
          "output_type": "stream",
          "name": "stdout",
          "text": [
            "MSSV sau khi mã hóa thành số:\n",
            "0    0\n",
            "1    0\n",
            "2    0\n",
            "3    0\n",
            "4    0\n",
            "Name: mssv, dtype: int64\n"
          ]
        }
      ],
      "source": [
        "from sklearn.preprocessing import LabelEncoder\n",
        "\n",
        "# Mã hóa MSSV thành số\n",
        "le = LabelEncoder()\n",
        "df['mssv'] = le.fit_transform(df['mssv'])\n",
        "\n",
        "print(\"MSSV sau khi mã hóa thành số:\")\n",
        "print(df['mssv'].head())\n"
      ]
    },
    {
      "cell_type": "code",
      "execution_count": null,
      "metadata": {
        "colab": {
          "base_uri": "https://localhost:8080/"
        },
        "id": "NO9azt-1pB8x",
        "outputId": "d6df1dec-0059-4fbd-ff49-5f0ae5d64490"
      },
      "outputs": [
        {
          "output_type": "stream",
          "name": "stdout",
          "text": [
            "Dữ liệu ban đầu:\n",
            "<class 'pandas.core.frame.DataFrame'>\n",
            "RangeIndex: 18262 entries, 0 to 18261\n",
            "Data columns (total 15 columns):\n",
            " #   Column        Non-Null Count  Dtype  \n",
            "---  ------        --------------  -----  \n",
            " 0   mssv          18262 non-null  object \n",
            " 1   id            18262 non-null  float64\n",
            " 2   namsinh       18262 non-null  float64\n",
            " 3   gioitinh      18262 non-null  float64\n",
            " 4   khoahoc       18262 non-null  float64\n",
            " 5   namhoc        18262 non-null  float64\n",
            " 6   hocky         18262 non-null  float64\n",
            " 7   diem          18262 non-null  float64\n",
            " 8   diem_qt       18262 non-null  float64\n",
            " 9   diem_th       18262 non-null  float64\n",
            " 10  diem_gk       18262 non-null  float64\n",
            " 11  diem_ck       18262 non-null  float64\n",
            " 12  diem_hp       18262 non-null  float64\n",
            " 13  dtb_toankhoa  18262 non-null  float64\n",
            " 14  dtb_tichluy   18262 non-null  float64\n",
            "dtypes: float64(14), object(1)\n",
            "memory usage: 2.1+ MB\n",
            "None\n"
          ]
        }
      ],
      "source": [
        "import pandas as pd\n",
        "\n",
        "# Đọc file CSV\n",
        "file_path = \"/content/drive/MyDrive/Colab Notebooks/Education_dataset_V2/Drop cột/Demo_file.csv\"  # Thay bằng đường dẫn file của bạn\n",
        "df = pd.read_csv(file_path)\n",
        "\n",
        "# Kiểm tra dữ liệu\n",
        "print(\"Dữ liệu ban đầu:\")\n",
        "print(df.info())"
      ]
    },
    {
      "cell_type": "code",
      "source": [
        "from sklearn.preprocessing import LabelEncoder\n",
        "\n",
        "# Mã hóa MSSV thành số\n",
        "le = LabelEncoder()\n",
        "df['mssv'] = le.fit_transform(df['mssv'])\n",
        "\n",
        "print(\"MSSV sau khi mã hóa thành số:\")\n",
        "print(df['mssv'].head())\n"
      ],
      "metadata": {
        "colab": {
          "base_uri": "https://localhost:8080/"
        },
        "id": "TsNjCBHKYzkk",
        "outputId": "1549f848-09d0-43a8-d06a-9db9b9c0e4b7"
      },
      "execution_count": null,
      "outputs": [
        {
          "output_type": "stream",
          "name": "stdout",
          "text": [
            "MSSV sau khi mã hóa thành số:\n",
            "0    0\n",
            "1    1\n",
            "2    2\n",
            "3    3\n",
            "4    4\n",
            "Name: mssv, dtype: int64\n"
          ]
        }
      ]
    },
    {
      "cell_type": "code",
      "execution_count": null,
      "metadata": {
        "id": "so5o-MSdWWEH"
      },
      "outputs": [],
      "source": [
        "# Tách X (đặc trưng) và y (mục tiêu)\n",
        "X = df.drop(columns=[\"diem_hp\"])  # Thay 'target_column' bằng tên cột mục tiêu của bạn\n",
        "y = df[\"diem_hp\"]\n"
      ]
    },
    {
      "cell_type": "code",
      "execution_count": null,
      "metadata": {
        "colab": {
          "base_uri": "https://localhost:8080/"
        },
        "id": "Tc99FpfpWjzR",
        "outputId": "7a55c61c-996d-40c9-b6c0-957dfbb078b4"
      },
      "outputs": [
        {
          "output_type": "stream",
          "name": "stdout",
          "text": [
            "Tập huấn luyện: (14609, 14), (14609,)\n",
            "Tập kiểm tra: (1826, 14), (1826,)\n",
            "Tập xác thực: (1827, 14), (1827,)\n"
          ]
        }
      ],
      "source": [
        "from sklearn.model_selection import train_test_split\n",
        "\n",
        "# Chia dữ liệu thành 80% huấn luyện và 20% tạm thời\n",
        "X_train, X_temp, y_train, y_temp = train_test_split(X, y, test_size=0.2, random_state=42)\n",
        "\n",
        "# Chia tiếp 20% còn lại thành 10% kiểm tra và 10% xác thực\n",
        "X_test, X_val, y_test, y_val = train_test_split(X_temp, y_temp, test_size=0.5, random_state=42)\n",
        "\n",
        "# Kết quả\n",
        "print(f\"Tập huấn luyện: {X_train.shape}, {y_train.shape}\")\n",
        "print(f\"Tập kiểm tra: {X_test.shape}, {y_test.shape}\")\n",
        "print(f\"Tập xác thực: {X_val.shape}, {y_val.shape}\")\n"
      ]
    },
    {
      "cell_type": "code",
      "execution_count": null,
      "metadata": {
        "colab": {
          "base_uri": "https://localhost:8080/"
        },
        "id": "Y8JFncq6WyZl",
        "outputId": "6cb997b3-b621-4f8c-8e1a-28af123f5ccb"
      },
      "outputs": [
        {
          "output_type": "stream",
          "name": "stdout",
          "text": [
            "Mô hình Random Forest Hồi quy đã được huấn luyện.\n"
          ]
        }
      ],
      "source": [
        "from sklearn.ensemble import RandomForestRegressor\n",
        "\n",
        "# Khởi tạo mô hình\n",
        "rf_regressor = RandomForestRegressor(n_estimators=200, random_state=42)\n",
        "\n",
        "# Huấn luyện mô hình trên tập huấn luyện\n",
        "rf_regressor.fit(X_train, y_train)\n",
        "\n",
        "print(\"Mô hình Random Forest Hồi quy đã được huấn luyện.\")\n"
      ]
    },
    {
      "cell_type": "code",
      "execution_count": null,
      "metadata": {
        "id": "YSy-6IwFW9Fe"
      },
      "outputs": [],
      "source": [
        "# Dự đoán trên tập kiểm tra\n",
        "y_pred_test = rf_regressor.predict(X_test)\n"
      ]
    },
    {
      "cell_type": "code",
      "execution_count": null,
      "metadata": {
        "colab": {
          "base_uri": "https://localhost:8080/"
        },
        "id": "PmkZHH8UXAVy",
        "outputId": "362f625d-470e-4f19-a516-0552b78369a4"
      },
      "outputs": [
        {
          "output_type": "stream",
          "name": "stdout",
          "text": [
            "Độ chính xác trên tập kiểm tra:\n",
            "Mean Squared Error (MSE): 0.41\n",
            "Root Mean Squared Error (RMSE): 0.64\n",
            "R² Score: 0.89\n"
          ]
        }
      ],
      "source": [
        "from sklearn.metrics import mean_squared_error, r2_score\n",
        "import numpy as np\n",
        "\n",
        "# Tính MSE và RMSE\n",
        "mse_test = mean_squared_error(y_test, y_pred_test)\n",
        "rmse_test = np.sqrt(mse_test)\n",
        "\n",
        "# Tính R² Score\n",
        "r2_test = r2_score(y_test, y_pred_test)\n",
        "\n",
        "print(f\"Độ chính xác trên tập kiểm tra:\")\n",
        "print(f\"Mean Squared Error (MSE): {mse_test:.2f}\")\n",
        "print(f\"Root Mean Squared Error (RMSE): {rmse_test:.2f}\")\n",
        "print(f\"R² Score: {r2_test:.2f}\")\n"
      ]
    },
    {
      "cell_type": "code",
      "execution_count": null,
      "metadata": {
        "colab": {
          "base_uri": "https://localhost:8080/"
        },
        "id": "vqkUyKWEXDbG",
        "outputId": "66125932-15f5-45fc-c840-66f25ce492fe"
      },
      "outputs": [
        {
          "output_type": "stream",
          "name": "stdout",
          "text": [
            "Độ chính xác trên tập xác thực:\n",
            "Mean Squared Error (MSE): 0.42\n",
            "Root Mean Squared Error (RMSE): 0.65\n",
            "R² Score: 0.88\n"
          ]
        }
      ],
      "source": [
        "# Dự đoán trên tập xác thực\n",
        "y_pred_val = rf_regressor.predict(X_val)\n",
        "\n",
        "# Tính MSE, RMSE và R² trên tập xác thực\n",
        "mse_val = mean_squared_error(y_val, y_pred_val)\n",
        "rmse_val = np.sqrt(mse_val)\n",
        "r2_val = r2_score(y_val, y_pred_val)\n",
        "\n",
        "print(f\"Độ chính xác trên tập xác thực:\")\n",
        "print(f\"Mean Squared Error (MSE): {mse_val:.2f}\")\n",
        "print(f\"Root Mean Squared Error (RMSE): {rmse_val:.2f}\")\n",
        "print(f\"R² Score: {r2_val:.2f}\")\n"
      ]
    },
    {
      "cell_type": "code",
      "execution_count": null,
      "metadata": {
        "colab": {
          "base_uri": "https://localhost:8080/"
        },
        "id": "HfuchRRJnHdO",
        "outputId": "ea8baab2-26a1-4b88-9181-d78894b775b1"
      },
      "outputs": [
        {
          "output_type": "stream",
          "name": "stdout",
          "text": [
            "MAE: 0.3276128422782039\n",
            "RMSE: 0.640853396408776\n",
            "R-squared: 0.8906862781762148\n",
            "Accuracy: 82.63964950711939 %\n"
          ]
        }
      ],
      "source": [
        "from sklearn.metrics import mean_absolute_error, mean_squared_error, r2_score\n",
        "import numpy as np\n",
        "\n",
        "# y_true: giá trị thực tế\n",
        "# y_pred: giá trị dự đoán từ mô hình\n",
        "y_true = y_test\n",
        "y_pred = y_pred_test\n",
        "\n",
        "# Tính các chỉ số\n",
        "MAE = mean_absolute_error(y_true, y_pred)\n",
        "RMSE = np.sqrt(mean_squared_error(y_true, y_pred))\n",
        "R_squared = r2_score(y_true, y_pred)\n",
        "\n",
        "# Accuracy (nếu cần) - phụ thuộc vào ngưỡng\n",
        "threshold = 0.5  # Tùy chỉnh ngưỡng\n",
        "accuracy = np.mean(np.abs(y_true - y_pred) < threshold) * 100\n",
        "\n",
        "# In kết quả\n",
        "print(\"MAE:\", MAE)\n",
        "print(\"RMSE:\", RMSE)\n",
        "print(\"R-squared:\", R_squared)\n",
        "print(\"Accuracy:\", accuracy, \"%\")\n"
      ]
    },
    {
      "cell_type": "code",
      "execution_count": null,
      "metadata": {
        "colab": {
          "base_uri": "https://localhost:8080/",
          "height": 489
        },
        "id": "qRO3YV1uncSa",
        "outputId": "98a0adaa-72e3-4cb0-9ad4-5bc4d242833b"
      },
      "outputs": [
        {
          "output_type": "display_data",
          "data": {
            "text/plain": [
              "<Figure size 800x500 with 1 Axes>"
            ],
            "image/png": "[encoded data removed]"
          },
          "metadata": {}
        }
      ],
      "source": [
        "import matplotlib.pyplot as plt\n",
        "# Giá trị các chỉ số cho nhiều mô hình (ví dụ)\n",
        "models = [\"Model 1\", \"Model 2\", \"Model 3\"]\n",
        "MAE_values = [1.2, 1.0, 0.9]\n",
        "RMSE_values = [1.5, 1.3, 1.1]\n",
        "R_squared_values = [0.85, 0.88, 0.90]\n",
        "\n",
        "# Vẽ biểu đồ\n",
        "plt.figure(figsize=(8, 5))\n",
        "plt.plot(models, MAE_values, marker='o', label=\"MAE\", color='blue')\n",
        "plt.plot(models, RMSE_values, marker='o', label=\"RMSE\", color='orange')\n",
        "plt.plot(models, R_squared_values, marker='o', label=\"R-squared\", color='green')\n",
        "plt.title(\"So sánh chỉ số giữa các mô hình\")\n",
        "plt.xlabel(\"Mô hình\")\n",
        "plt.ylabel(\"Giá trị\")\n",
        "plt.legend()\n",
        "plt.show()\n"
      ]
    }
  ],
  "metadata": {
    "colab": {
      "provenance": []
    },
    "kernelspec": {
      "display_name": "Python 3",
      "name": "python3"
    },
    "language_info": {
      "name": "python"
    }
  },
  "nbformat": 4,
  "nbformat_minor": 0
}